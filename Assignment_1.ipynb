{
 "cells": [
  {
   "cell_type": "code",
   "execution_count": 1,
   "id": "9b6812f4-f7b2-4a60-9e12-c36397c2ebae",
   "metadata": {},
   "outputs": [],
   "source": [
    "import pandas as pd\n",
    "import numpy as np\n",
    "import matplotlib.pyplot as plt\n",
    "import seaborn as sns"
   ]
  },
  {
   "cell_type": "code",
   "execution_count": 2,
   "id": "35305761-4db3-4750-8a7c-fac1063730ae",
   "metadata": {},
   "outputs": [],
   "source": [
    "df=pd.read_excel(\"assign_1.xlsx\")"
   ]
  },
  {
   "cell_type": "code",
   "execution_count": 3,
   "id": "2c19ae3b-0c59-4b68-a70f-50886834f4dd",
   "metadata": {},
   "outputs": [
    {
     "name": "stdout",
     "output_type": "stream",
     "text": [
      "                       Company   Age  Salary       Place Country  Gender\n",
      "0                          TCS  20.0     NaN     Chennai   India       0\n",
      "1                      Infosys  30.0     NaN      Mumbai   India       0\n",
      "2                          TCS  35.0  2300.0    Calcutta   India       0\n",
      "3                      Infosys  40.0  3000.0       Delhi   India       0\n",
      "4                          TCS  23.0  4000.0      Mumbai   India       0\n",
      "5                      Infosys   NaN  5000.0    Calcutta   India       0\n",
      "6                          TCS   NaN  6000.0     Chennai   India       1\n",
      "7                      Infosys  23.0  7000.0      Mumbai   India       1\n",
      "8                          TCS  34.0  8000.0    Calcutta   India       1\n",
      "9                          CTS  45.0  9000.0       Delhi   India       0\n",
      "10                         CTS  23.0     NaN      Mumbai   India       0\n",
      "11                         CTS  34.0  1089.0    Calcutta   India       0\n",
      "12                         CTS  45.0     NaN     Chennai   India       0\n",
      "13                         CTS  18.0  1234.0      Mumbai   India       0\n",
      "14                     Infosys  40.0  3000.0    Calcutta   India       0\n",
      "15                         TCS  23.0  3000.0       Delhi   India       0\n",
      "16                     Infosys  23.0  3030.0  Podicherry   India       0\n",
      "17                         TCS  34.0  5000.0      Cochin   India       0\n",
      "18                         TCS  22.0     NaN     Chennai   India       0\n",
      "19                     Infosys  32.0     NaN      Mumbai   India       0\n",
      "20                         TCS  37.0  3045.0    Calcutta   India       0\n",
      "21                     Infosys  50.0  3184.0       Delhi   India       0\n",
      "22                         TCS  21.0  4824.0      Mumbai   India       0\n",
      "23                     Infosys   NaN  5835.0      Cochin   India       0\n",
      "24                         TCS   NaN  7084.0     Chennai   India       1\n",
      "25                     Infosys  23.0  8943.0      Mumbai   India       1\n",
      "26                         TCS  34.0  8345.0    Calcutta   India       1\n",
      "27                         CTS  45.0  9284.0       Delhi   India       1\n",
      "28                         CTS  23.0  9876.0      Mumbai   India       1\n",
      "29                         CTS  35.0  2034.0      Cochin   India       0\n",
      "30                         CTS  46.0  7654.0     Chennai   India       0\n",
      "31                         CTS  20.0  2934.0      Mumbai   India       0\n",
      "32                     Infosys  45.0  4034.0    Calcutta   India       0\n",
      "33                         TCS  36.0  5034.0         NaN   India       0\n",
      "34                     Infosys  26.0  8202.0         NaN   India       0\n",
      "35                         TCS  35.0  9024.0         NaN   India       1\n",
      "36                         TCS  32.0     NaN       Noida   India       0\n",
      "37                         NaN  35.0     NaN   Hyderabad   India       0\n",
      "38                         TCS  34.0  2300.0    Calcutta   India       0\n",
      "39                     Infosys  41.0  3000.0      Mumbai   India       0\n",
      "40                         TCS  24.0  4345.0    Calcutta   India       0\n",
      "41                     Infosys   NaN  5000.0         NaN   India       0\n",
      "42                         TCS   NaN  6000.0         NaN   India       0\n",
      "43                     Infosys  25.0  7000.0         NaN   India       0\n",
      "44                         TCS  35.0  8000.0       Noida   India       1\n",
      "45                         CTS  46.0  9000.0   Hyderabad   India       1\n",
      "46                         CTS  24.0     NaN    Calcutta   India       0\n",
      "47                         CTS  32.0  1089.0      Mumbai   India       0\n",
      "48                         CTS  43.0     NaN      Mumbai   India       0\n",
      "49                         CTS  19.0  1234.0      Cochin   India       0\n",
      "50                     Infosys  41.0  3000.0     Chennai   India       0\n",
      "51                         NaN  24.0  3000.0      Mumbai   India       0\n",
      "52                     Infosys  21.0  3030.0    Calcutta   India       0\n",
      "53                         TCS  35.0  5000.0       Delhi   India       0\n",
      "54                         TCS  21.0  6544.0      Mumbai   India       0\n",
      "55                     Infosys  32.0  7654.0      Cochin   India       0\n",
      "56                         TCS  38.0  3045.0       Noida   India       0\n",
      "57                     Infosys  51.0  3184.0   Hyderabad   India       0\n",
      "58                         TCS  23.0  4824.0    Calcutta   India       0\n",
      "59                     Infosys   NaN  5835.0      Mumbai   India       0\n",
      "60                         TCS   NaN  7084.0    Calcutta   India       0\n",
      "61                         NaN  25.0  8943.0         NaN   India       1\n",
      "62   Tata Consultancy Services  36.0  8345.0         NaN   India       1\n",
      "63                         CTS  41.0  9284.0         NaN   India       1\n",
      "64                         NaN  25.0  6543.0       Noida   India       0\n",
      "65                         CTS  31.0  2034.0   Hyderabad   India       0\n",
      "66                         CTS  41.0     NaN    Calcutta   India       0\n",
      "67                  Congnizant  21.0  2934.0      Mumbai   India       0\n",
      "68                     Infosys  43.0  4034.0      Mumbai   India       0\n",
      "69                         TCS  32.0  5034.0      Cochin   India       0\n",
      "70             Infosys Pvt Lmt  21.0  8202.0     Chennai   India       0\n",
      "71                         TCS  34.0  9024.0      Mumbai   India       1\n",
      "72                         TCS  24.0     NaN    Calcutta   India       0\n",
      "73                     Infosys  34.0     NaN       Delhi   India       0\n",
      "74                         TCS  37.0  2300.0      Mumbai   India       0\n",
      "75                     Infosys  44.0  3000.0      Cochin   India       0\n",
      "76                         TCS  32.0  4000.0       Noida   India       0\n",
      "77                     Infosys   NaN  5000.0   Hyderabad   India       0\n",
      "78                         TCS   NaN  6000.0    Calcutta   India       0\n",
      "79                     Infosys  26.0  7000.0      Bhopal   India       0\n",
      "80                         TCS  32.0  8000.0      Nagpur   India       0\n",
      "81                         CTS  43.0  9000.0        Pune   India       1\n",
      "82                         CTS  22.0     NaN        Pune   India       0\n",
      "83                         CTS  33.0  1089.0     Chennai   India       0\n",
      "84                         CTS  43.0     NaN      Mumbai   India       0\n",
      "85                         CTS  17.0  1234.0    Calcutta   India       0\n",
      "86                     Infosys  41.0  3000.0       Delhi   India       0\n",
      "87                         TCS  21.0  3000.0      Mumbai   India       0\n",
      "88                     Infosys   0.0  3030.0    Calcutta   India       0\n",
      "89                         TCS  36.0  5000.0     Chennai   India       0\n",
      "90                         TCS  21.0     NaN      Mumbai   India       0\n",
      "91                     Infosys  34.0     NaN    Calcutta   India       0\n",
      "92                         TCS   0.0  3045.0       Delhi   India       0\n",
      "93                     Infosys  54.0  3184.0      Mumbai   India       0\n",
      "94                         TCS  22.0  4824.0    Calcutta   India       0\n",
      "95                     Infosys   NaN  5835.0     Chennai   India       0\n",
      "96                         TCS   NaN  7084.0      Mumbai   India       1\n",
      "97                     Infosys  22.0  8943.0    Calcutta   India       1\n",
      "98                         TCS  33.0  8345.0       Delhi   India       1\n",
      "99                         CTS  44.0  9284.0  Podicherry   India       1\n",
      "100                        CTS  22.0     NaN      Cochin   India       0\n",
      "101                        CTS   0.0  2034.0  Podicherry   India       0\n",
      "102                        CTS  44.0     NaN      Mumbai   India       0\n",
      "103                        CTS  22.0  2934.0    Calcutta   India       0\n",
      "104                    Infosys  44.0  4034.0       Delhi   India       0\n",
      "105                        TCS  33.0  5034.0      Mumbai   India       0\n",
      "106                    Infosys  22.0  8202.0      Cochin   India       1\n",
      "107                        TCS   0.0  9024.0     Chennai   India       1\n",
      "108                        TCS  33.0     NaN      Mumbai   India       0\n",
      "109                        NaN  33.0     NaN    Calcutta   India       0\n",
      "110                        TCS  33.0  2300.0       Delhi   India       0\n",
      "111                    Infosys   0.0  3234.0      Mumbai   India       0\n",
      "112                        TCS  22.0  4324.0      Cochin   India       0\n",
      "113                    Infosys   NaN  5435.0     Chennai   India       0\n",
      "114                        TCS   NaN  5555.0      Mumbai   India       0\n",
      "115                    Infosys  22.0  8787.0    Calcutta   India       0\n",
      "116                        TCS  33.0  8787.0         NaN   India       1\n",
      "117                        CTS  44.0  9876.0         NaN   India       1\n",
      "118                        CTS  22.0     NaN         NaN   India       0\n",
      "119                        CTS  33.0  1089.0       Noida   India       0\n",
      "120                        CTS  44.0     NaN   Hyderabad   India       0\n",
      "121                        CTS   0.0  1234.0    Calcutta   India       0\n",
      "122                    Infosys  44.0  3234.0      Mumbai   India       0\n",
      "123                        NaN   NaN  3454.0    Calcutta   India       0\n",
      "124                    Infosys  22.0  8787.0    Calcutta   India       1\n",
      "125                        TCS  33.0  5654.0         NaN   India       1\n",
      "126                        TCS  20.0  5009.0         NaN   India       1\n",
      "127                    Infosys  30.0  5098.0       Noida   India       0\n",
      "128                        TCS  33.0  3045.0   Hyderabad   India       0\n",
      "129                    Infosys  50.0  3184.0    Calcutta   India       0\n",
      "130                        TCS  21.0  4824.0      Mumbai   India       0\n",
      "131                    Infosys   NaN  5835.0      Mumbai   India       0\n",
      "132                        TCS   NaN  7084.0      Cochin   India       1\n",
      "133                        NaN  22.0  8943.0     Chennai   India       0\n",
      "134  Tata Consultancy Services  31.0  8345.0      Mumbai   India       0\n",
      "135                        CTS  40.0  9284.0    Calcutta   India       1\n",
      "136                        NaN   NaN     NaN       Delhi   India       0\n",
      "137                        CTS  31.0  2034.0      Mumbai   India       0\n",
      "138                        CTS  44.0  3033.0      Cochin   India       0\n",
      "139                 Congnizant  22.0  2934.0       Noida   India       0\n",
      "140                    Infosys  44.0  4034.0   Hyderabad   India       0\n",
      "141                        TCS  33.0  5034.0    Calcutta   India       0\n",
      "142            Infosys Pvt Lmt  22.0  8202.0      Mumbai   India       0\n",
      "143                        TCS  33.0  9024.0    Calcutta   India       1\n",
      "144                    Infosys  22.0  8787.0    Calcutta   India       1\n",
      "145                    Infosys  44.0  4034.0       Delhi   India       1\n",
      "146                        TCS  33.0  5034.0      Mumbai   India       1\n",
      "147                    Infosys  22.0  8202.0      Cochin   India       0\n"
     ]
    }
   ],
   "source": [
    "print(df.to_string())"
   ]
  },
  {
   "cell_type": "code",
   "execution_count": 4,
   "id": "8bd967d6-db84-4ba9-b1f9-0bcd425d7225",
   "metadata": {},
   "outputs": [
    {
     "data": {
      "text/html": [
       "<div>\n",
       "<style scoped>\n",
       "    .dataframe tbody tr th:only-of-type {\n",
       "        vertical-align: middle;\n",
       "    }\n",
       "\n",
       "    .dataframe tbody tr th {\n",
       "        vertical-align: top;\n",
       "    }\n",
       "\n",
       "    .dataframe thead th {\n",
       "        text-align: right;\n",
       "    }\n",
       "</style>\n",
       "<table border=\"1\" class=\"dataframe\">\n",
       "  <thead>\n",
       "    <tr style=\"text-align: right;\">\n",
       "      <th></th>\n",
       "      <th>Company</th>\n",
       "      <th>Age</th>\n",
       "      <th>Salary</th>\n",
       "      <th>Place</th>\n",
       "      <th>Country</th>\n",
       "      <th>Gender</th>\n",
       "    </tr>\n",
       "  </thead>\n",
       "  <tbody>\n",
       "    <tr>\n",
       "      <th>0</th>\n",
       "      <td>TCS</td>\n",
       "      <td>20.0</td>\n",
       "      <td>NaN</td>\n",
       "      <td>Chennai</td>\n",
       "      <td>India</td>\n",
       "      <td>0</td>\n",
       "    </tr>\n",
       "    <tr>\n",
       "      <th>1</th>\n",
       "      <td>Infosys</td>\n",
       "      <td>30.0</td>\n",
       "      <td>NaN</td>\n",
       "      <td>Mumbai</td>\n",
       "      <td>India</td>\n",
       "      <td>0</td>\n",
       "    </tr>\n",
       "    <tr>\n",
       "      <th>2</th>\n",
       "      <td>TCS</td>\n",
       "      <td>35.0</td>\n",
       "      <td>2300.0</td>\n",
       "      <td>Calcutta</td>\n",
       "      <td>India</td>\n",
       "      <td>0</td>\n",
       "    </tr>\n",
       "    <tr>\n",
       "      <th>3</th>\n",
       "      <td>Infosys</td>\n",
       "      <td>40.0</td>\n",
       "      <td>3000.0</td>\n",
       "      <td>Delhi</td>\n",
       "      <td>India</td>\n",
       "      <td>0</td>\n",
       "    </tr>\n",
       "    <tr>\n",
       "      <th>4</th>\n",
       "      <td>TCS</td>\n",
       "      <td>23.0</td>\n",
       "      <td>4000.0</td>\n",
       "      <td>Mumbai</td>\n",
       "      <td>India</td>\n",
       "      <td>0</td>\n",
       "    </tr>\n",
       "  </tbody>\n",
       "</table>\n",
       "</div>"
      ],
      "text/plain": [
       "   Company   Age  Salary     Place Country  Gender\n",
       "0      TCS  20.0     NaN   Chennai   India       0\n",
       "1  Infosys  30.0     NaN    Mumbai   India       0\n",
       "2      TCS  35.0  2300.0  Calcutta   India       0\n",
       "3  Infosys  40.0  3000.0     Delhi   India       0\n",
       "4      TCS  23.0  4000.0    Mumbai   India       0"
      ]
     },
     "execution_count": 4,
     "metadata": {},
     "output_type": "execute_result"
    }
   ],
   "source": [
    "df.head() #first five"
   ]
  },
  {
   "cell_type": "code",
   "execution_count": 5,
   "id": "7ad26457-c1db-4bf6-ab0c-6828df8c7fe0",
   "metadata": {},
   "outputs": [
    {
     "data": {
      "text/html": [
       "<div>\n",
       "<style scoped>\n",
       "    .dataframe tbody tr th:only-of-type {\n",
       "        vertical-align: middle;\n",
       "    }\n",
       "\n",
       "    .dataframe tbody tr th {\n",
       "        vertical-align: top;\n",
       "    }\n",
       "\n",
       "    .dataframe thead th {\n",
       "        text-align: right;\n",
       "    }\n",
       "</style>\n",
       "<table border=\"1\" class=\"dataframe\">\n",
       "  <thead>\n",
       "    <tr style=\"text-align: right;\">\n",
       "      <th></th>\n",
       "      <th>Company</th>\n",
       "      <th>Age</th>\n",
       "      <th>Salary</th>\n",
       "      <th>Place</th>\n",
       "      <th>Country</th>\n",
       "      <th>Gender</th>\n",
       "    </tr>\n",
       "  </thead>\n",
       "  <tbody>\n",
       "    <tr>\n",
       "      <th>143</th>\n",
       "      <td>TCS</td>\n",
       "      <td>33.0</td>\n",
       "      <td>9024.0</td>\n",
       "      <td>Calcutta</td>\n",
       "      <td>India</td>\n",
       "      <td>1</td>\n",
       "    </tr>\n",
       "    <tr>\n",
       "      <th>144</th>\n",
       "      <td>Infosys</td>\n",
       "      <td>22.0</td>\n",
       "      <td>8787.0</td>\n",
       "      <td>Calcutta</td>\n",
       "      <td>India</td>\n",
       "      <td>1</td>\n",
       "    </tr>\n",
       "    <tr>\n",
       "      <th>145</th>\n",
       "      <td>Infosys</td>\n",
       "      <td>44.0</td>\n",
       "      <td>4034.0</td>\n",
       "      <td>Delhi</td>\n",
       "      <td>India</td>\n",
       "      <td>1</td>\n",
       "    </tr>\n",
       "    <tr>\n",
       "      <th>146</th>\n",
       "      <td>TCS</td>\n",
       "      <td>33.0</td>\n",
       "      <td>5034.0</td>\n",
       "      <td>Mumbai</td>\n",
       "      <td>India</td>\n",
       "      <td>1</td>\n",
       "    </tr>\n",
       "    <tr>\n",
       "      <th>147</th>\n",
       "      <td>Infosys</td>\n",
       "      <td>22.0</td>\n",
       "      <td>8202.0</td>\n",
       "      <td>Cochin</td>\n",
       "      <td>India</td>\n",
       "      <td>0</td>\n",
       "    </tr>\n",
       "  </tbody>\n",
       "</table>\n",
       "</div>"
      ],
      "text/plain": [
       "     Company   Age  Salary     Place Country  Gender\n",
       "143      TCS  33.0  9024.0  Calcutta   India       1\n",
       "144  Infosys  22.0  8787.0  Calcutta   India       1\n",
       "145  Infosys  44.0  4034.0     Delhi   India       1\n",
       "146      TCS  33.0  5034.0    Mumbai   India       1\n",
       "147  Infosys  22.0  8202.0    Cochin   India       0"
      ]
     },
     "execution_count": 5,
     "metadata": {},
     "output_type": "execute_result"
    }
   ],
   "source": [
    "df.tail() #last five"
   ]
  },
  {
   "cell_type": "code",
   "execution_count": 6,
   "id": "0714ac5c-0ca3-4e6e-bfc0-309af5507ddb",
   "metadata": {},
   "outputs": [
    {
     "data": {
      "text/plain": [
       "(148, 6)"
      ]
     },
     "execution_count": 6,
     "metadata": {},
     "output_type": "execute_result"
    }
   ],
   "source": [
    "df.shape #no. of rows and column"
   ]
  },
  {
   "cell_type": "code",
   "execution_count": 7,
   "id": "7c956d01-d12f-4c88-a437-b63cf519aca7",
   "metadata": {},
   "outputs": [
    {
     "name": "stdout",
     "output_type": "stream",
     "text": [
      "<class 'pandas.core.frame.DataFrame'>\n",
      "RangeIndex: 148 entries, 0 to 147\n",
      "Data columns (total 6 columns):\n",
      " #   Column   Non-Null Count  Dtype  \n",
      "---  ------   --------------  -----  \n",
      " 0   Company  140 non-null    object \n",
      " 1   Age      130 non-null    float64\n",
      " 2   Salary   124 non-null    float64\n",
      " 3   Place    134 non-null    object \n",
      " 4   Country  148 non-null    object \n",
      " 5   Gender   148 non-null    int64  \n",
      "dtypes: float64(2), int64(1), object(3)\n",
      "memory usage: 7.1+ KB\n"
     ]
    }
   ],
   "source": [
    "df.info() #all the information about the dataframe"
   ]
  },
  {
   "cell_type": "code",
   "execution_count": 8,
   "id": "d8832c31-7909-4fb4-a657-e55dbaa8338e",
   "metadata": {},
   "outputs": [
    {
     "data": {
      "text/plain": [
       "Company     8\n",
       "Age        18\n",
       "Salary     24\n",
       "Place      14\n",
       "Country     0\n",
       "Gender      0\n",
       "dtype: int64"
      ]
     },
     "execution_count": 8,
     "metadata": {},
     "output_type": "execute_result"
    }
   ],
   "source": [
    "df.isnull().sum() #find the count of missing values"
   ]
  },
  {
   "cell_type": "code",
   "execution_count": 9,
   "id": "59dd329d-1fd0-4205-8e3a-6b163de5fa12",
   "metadata": {},
   "outputs": [
    {
     "data": {
      "text/plain": [
       "Company     5.405405\n",
       "Age        12.162162\n",
       "Salary     16.216216\n",
       "Place       9.459459\n",
       "Country     0.000000\n",
       "Gender      0.000000\n",
       "dtype: float64"
      ]
     },
     "execution_count": 9,
     "metadata": {},
     "output_type": "execute_result"
    }
   ],
   "source": [
    "df.isnull().sum()/df.shape[0]*100 #this gives the percentage of null value compare to the overall data."
   ]
  },
  {
   "cell_type": "code",
   "execution_count": 10,
   "id": "5391d2fc-4ae2-43ed-9cc6-cda34c650be7",
   "metadata": {},
   "outputs": [
    {
     "data": {
      "text/plain": [
       "4"
      ]
     },
     "execution_count": 10,
     "metadata": {},
     "output_type": "execute_result"
    }
   ],
   "source": [
    "df.duplicated().sum() #gives the count of duplicate values"
   ]
  },
  {
   "cell_type": "code",
   "execution_count": 11,
   "id": "6f722dc6-fa34-4f12-928c-014b2c09f3a4",
   "metadata": {},
   "outputs": [
    {
     "data": {
      "text/html": [
       "<div>\n",
       "<style scoped>\n",
       "    .dataframe tbody tr th:only-of-type {\n",
       "        vertical-align: middle;\n",
       "    }\n",
       "\n",
       "    .dataframe tbody tr th {\n",
       "        vertical-align: top;\n",
       "    }\n",
       "\n",
       "    .dataframe thead th {\n",
       "        text-align: right;\n",
       "    }\n",
       "</style>\n",
       "<table border=\"1\" class=\"dataframe\">\n",
       "  <thead>\n",
       "    <tr style=\"text-align: right;\">\n",
       "      <th></th>\n",
       "      <th>Age</th>\n",
       "      <th>Salary</th>\n",
       "      <th>Gender</th>\n",
       "    </tr>\n",
       "  </thead>\n",
       "  <tbody>\n",
       "    <tr>\n",
       "      <th>count</th>\n",
       "      <td>130.000000</td>\n",
       "      <td>124.000000</td>\n",
       "      <td>148.000000</td>\n",
       "    </tr>\n",
       "    <tr>\n",
       "      <th>mean</th>\n",
       "      <td>30.484615</td>\n",
       "      <td>5312.467742</td>\n",
       "      <td>0.222973</td>\n",
       "    </tr>\n",
       "    <tr>\n",
       "      <th>std</th>\n",
       "      <td>11.096640</td>\n",
       "      <td>2573.764683</td>\n",
       "      <td>0.417654</td>\n",
       "    </tr>\n",
       "    <tr>\n",
       "      <th>min</th>\n",
       "      <td>0.000000</td>\n",
       "      <td>1089.000000</td>\n",
       "      <td>0.000000</td>\n",
       "    </tr>\n",
       "    <tr>\n",
       "      <th>25%</th>\n",
       "      <td>22.000000</td>\n",
       "      <td>3030.000000</td>\n",
       "      <td>0.000000</td>\n",
       "    </tr>\n",
       "    <tr>\n",
       "      <th>50%</th>\n",
       "      <td>32.500000</td>\n",
       "      <td>5000.000000</td>\n",
       "      <td>0.000000</td>\n",
       "    </tr>\n",
       "    <tr>\n",
       "      <th>75%</th>\n",
       "      <td>37.750000</td>\n",
       "      <td>8000.000000</td>\n",
       "      <td>0.000000</td>\n",
       "    </tr>\n",
       "    <tr>\n",
       "      <th>max</th>\n",
       "      <td>54.000000</td>\n",
       "      <td>9876.000000</td>\n",
       "      <td>1.000000</td>\n",
       "    </tr>\n",
       "  </tbody>\n",
       "</table>\n",
       "</div>"
      ],
      "text/plain": [
       "              Age       Salary      Gender\n",
       "count  130.000000   124.000000  148.000000\n",
       "mean    30.484615  5312.467742    0.222973\n",
       "std     11.096640  2573.764683    0.417654\n",
       "min      0.000000  1089.000000    0.000000\n",
       "25%     22.000000  3030.000000    0.000000\n",
       "50%     32.500000  5000.000000    0.000000\n",
       "75%     37.750000  8000.000000    0.000000\n",
       "max     54.000000  9876.000000    1.000000"
      ]
     },
     "execution_count": 11,
     "metadata": {},
     "output_type": "execute_result"
    }
   ],
   "source": [
    "df.describe() "
   ]
  },
  {
   "cell_type": "code",
   "execution_count": 12,
   "id": "6ff5a079-ceb4-4f58-a726-221eb1fd6417",
   "metadata": {},
   "outputs": [
    {
     "data": {
      "image/png": "[encoded data removed]",
      "text/plain": [
       "<Figure size 1500x1000 with 2 Axes>"
      ]
     },
     "metadata": {},
     "output_type": "display_data"
    }
   ],
   "source": [
    " plt.figure(figsize=(15, 10)) #histogram to understand distribution of data\n",
    " plt.subplot(1,2, 1)\n",
    " plt.hist(df['Age'],bins=10,color='blue',edgecolor='black')\n",
    " plt.title('Age Distribution')\n",
    " plt.xlabel('Age')\n",
    " plt.ylabel('Frequency')\n",
    " plt.subplot(1,2, 2)\n",
    " plt.hist(df['Salary'],bins=10,color='green',edgecolor='black')\n",
    " plt.title('Salary Distribution')\n",
    " plt.xlabel('Salary')\n",
    " plt.ylabel('Frequency')\n",
    " plt.tight_layout()\n",
    " plt.show()"
   ]
  },
  {
   "cell_type": "code",
   "execution_count": 30,
   "id": "6aa2ed10-0e96-4c9f-aa4a-1cc38daf80dc",
   "metadata": {},
   "outputs": [
    {
     "data": {
      "image/png": "[encoded data removed]",
      "text/plain": [
       "<Figure size 1400x600 with 1 Axes>"
      ]
     },
     "metadata": {},
     "output_type": "display_data"
    },
    {
     "data": {
      "image/png": "[encoded data removed]",
      "text/plain": [
       "<Figure size 1400x600 with 1 Axes>"
      ]
     },
     "metadata": {},
     "output_type": "display_data"
    }
   ],
   "source": [
    "plt.figure(figsize=(14,6)) #for outliers\n",
    "plt.subplot(1,2,1)\n",
    "sns.boxplot(x=df['Age'])\n",
    "plt.title('Box plot of Age')\n",
    "plt.show()\n",
    "plt.figure(figsize=(14,6))\n",
    "plt.subplot(1,2,2)\n",
    "sns.boxplot(x=df['Salary'])\n",
    "plt.title('Box plot of Salary')\n",
    "plt.tight_layout()\n",
    "plt.show()"
   ]
  },
  {
   "cell_type": "code",
   "execution_count": 14,
   "id": "c9589af6-5a70-49c5-8919-61c7b8083e53",
   "metadata": {},
   "outputs": [
    {
     "data": {
      "image/png": "[encoded data removed]",
      "text/plain": [
       "<Figure size 1000x800 with 1 Axes>"
      ]
     },
     "metadata": {},
     "output_type": "display_data"
    }
   ],
   "source": [
    "plt.figure(figsize=(10, 8))\n",
    "sns.scatterplot(x='Age', y='Salary', data=df, alpha=0.6)\n",
    "plt.title('Age vs Salary')\n",
    "plt.xlabel('Age')\n",
    "plt.ylabel('Salary')\n",
    "plt.show()"
   ]
  },
  {
   "cell_type": "code",
   "execution_count": 15,
   "id": "bb14ad07-f24a-4275-96e7-f1ffc98b0bf0",
   "metadata": {},
   "outputs": [
    {
     "data": {
      "text/plain": [
       "<Axes: >"
      ]
     },
     "execution_count": 15,
     "metadata": {},
     "output_type": "execute_result"
    },
    {
     "data": {
      "image/png": "[encoded data removed]",
      "text/plain": [
       "<Figure size 1000x1000 with 2 Axes>"
      ]
     },
     "metadata": {},
     "output_type": "display_data"
    }
   ],
   "source": [
    "data= df[['Age','Salary']].corr() #for corelation matrix store in data\n",
    "plt.figure(figsize=(10,10))\n",
    "sns.heatmap(data,annot=True)"
   ]
  },
  {
   "cell_type": "code",
   "execution_count": 16,
   "id": "0a0c1758-0f7a-4c2b-9b6d-397452592cbd",
   "metadata": {},
   "outputs": [
    {
     "data": {
      "text/plain": [
       "5312.467741935484"
      ]
     },
     "execution_count": 16,
     "metadata": {},
     "output_type": "execute_result"
    }
   ],
   "source": [
    "df['Salary'].mean() #for treatment of missing values for numerical data\n"
   ]
  },
  {
   "cell_type": "code",
   "execution_count": 17,
   "id": "9de0267d-28ae-49c1-87af-f46ec94c80d3",
   "metadata": {},
   "outputs": [
    {
     "data": {
      "text/plain": [
       "30.484615384615385"
      ]
     },
     "execution_count": 17,
     "metadata": {},
     "output_type": "execute_result"
    }
   ],
   "source": [
    "df['Age'].mean() "
   ]
  },
  {
   "cell_type": "code",
   "execution_count": 18,
   "id": "0d07b88a-3a01-441e-b7f3-53b3be01d81f",
   "metadata": {},
   "outputs": [],
   "source": [
    "df['Salary'] = df['Salary'].fillna(value=5312.0)\n",
    "df['Age']= df['Age'].fillna(value=30)"
   ]
  },
  {
   "cell_type": "code",
   "execution_count": 19,
   "id": "ae21ff68-45fe-4842-95ce-61c7e2e4f19b",
   "metadata": {},
   "outputs": [
    {
     "data": {
      "text/plain": [
       "Company     8\n",
       "Age         0\n",
       "Salary      0\n",
       "Place      14\n",
       "Country     0\n",
       "Gender      0\n",
       "dtype: int64"
      ]
     },
     "execution_count": 19,
     "metadata": {},
     "output_type": "execute_result"
    }
   ],
   "source": [
    "df.isnull().sum()"
   ]
  },
  {
   "cell_type": "code",
   "execution_count": 20,
   "id": "78ab6c01-3979-4711-beb7-fce523cc1cc2",
   "metadata": {},
   "outputs": [
    {
     "data": {
      "text/plain": [
       "0    TCS\n",
       "Name: Company, dtype: object"
      ]
     },
     "execution_count": 20,
     "metadata": {},
     "output_type": "execute_result"
    }
   ],
   "source": [
    "df['Company'].mode()"
   ]
  },
  {
   "cell_type": "code",
   "execution_count": 21,
   "id": "bf4b8111-091e-4282-b224-cd2143a36f96",
   "metadata": {},
   "outputs": [
    {
     "data": {
      "text/plain": [
       "0    Mumbai\n",
       "Name: Place, dtype: object"
      ]
     },
     "execution_count": 21,
     "metadata": {},
     "output_type": "execute_result"
    }
   ],
   "source": [
    "df['Place'].mode()"
   ]
  },
  {
   "cell_type": "code",
   "execution_count": 22,
   "id": "6289542d-5250-47b0-9b5a-cff585cecbc8",
   "metadata": {},
   "outputs": [],
   "source": [
    "df['Company'] = df['Company'].fillna(value='TCS')"
   ]
  },
  {
   "cell_type": "code",
   "execution_count": 23,
   "id": "e2e9dec6-054a-4560-8862-af2b72f12515",
   "metadata": {},
   "outputs": [],
   "source": [
    "df['Place'] = df['Place'].fillna(value='Mumbai')"
   ]
  },
  {
   "cell_type": "code",
   "execution_count": 24,
   "id": "068fa1d6-a481-4cb7-8360-e125aef4665e",
   "metadata": {},
   "outputs": [
    {
     "data": {
      "text/plain": [
       "Company    0\n",
       "Age        0\n",
       "Salary     0\n",
       "Place      0\n",
       "Country    0\n",
       "Gender     0\n",
       "dtype: int64"
      ]
     },
     "execution_count": 24,
     "metadata": {},
     "output_type": "execute_result"
    }
   ],
   "source": [
    "df.isnull().sum()"
   ]
  },
  {
   "cell_type": "code",
   "execution_count": 25,
   "id": "cb8afc04-6c32-4a78-9fd5-37b88c0b0c8e",
   "metadata": {},
   "outputs": [],
   "source": [
    "# Remove duplicates\n",
    "df.drop_duplicates(inplace=True)"
   ]
  },
  {
   "cell_type": "code",
   "execution_count": 26,
   "id": "701ef522-d1df-4d6a-ae19-ccefe5de5d0d",
   "metadata": {},
   "outputs": [
    {
     "data": {
      "text/plain": [
       "0"
      ]
     },
     "execution_count": 26,
     "metadata": {},
     "output_type": "execute_result"
    }
   ],
   "source": [
    "df.duplicated().sum()"
   ]
  },
  {
   "cell_type": "code",
   "execution_count": 27,
   "id": "95cdfc5c-6ac8-4eb3-9c4d-541906ff0f9a",
   "metadata": {},
   "outputs": [
    {
     "name": "stdout",
     "output_type": "stream",
     "text": [
      "              Age       Salary      Gender\n",
      "count  144.000000   144.000000  144.000000\n",
      "mean    30.465278  5288.027778    0.222222\n",
      "std     10.434553  2368.373388    0.417191\n",
      "min      0.000000  1089.000000    0.000000\n",
      "25%     23.000000  3045.000000    0.000000\n",
      "50%     31.000000  5312.000000    0.000000\n",
      "75%     36.000000  7084.000000    0.000000\n",
      "max     54.000000  9876.000000    1.000000\n",
      "Company\n",
      "TCS                          60\n",
      "Infosys                      43\n",
      "CTS                          35\n",
      "Tata Consultancy Services     2\n",
      "Congnizant                    2\n",
      "Infosys Pvt Lmt               2\n",
      "Name: count, dtype: int64\n",
      "Place\n",
      "Mumbai        48\n",
      "Calcutta      32\n",
      "Chennai       14\n",
      "Delhi         14\n",
      "Cochin        13\n",
      "Noida          8\n",
      "Hyderabad      8\n",
      "Podicherry     3\n",
      "Pune           2\n",
      "Bhopal         1\n",
      "Nagpur         1\n",
      "Name: count, dtype: int64\n",
      "Country\n",
      "India    144\n",
      "Name: count, dtype: int64\n",
      "Gender\n",
      "0    112\n",
      "1     32\n",
      "Name: count, dtype: int64\n"
     ]
    }
   ],
   "source": [
    "print(df.describe())\n",
    "print(df['Company'].value_counts())\n",
    "print(df['Place'].value_counts())\n",
    "print(df['Country'].value_counts())\n",
    "print(df['Gender'].value_counts())"
   ]
  },
  {
   "cell_type": "code",
   "execution_count": 28,
   "id": "d81f0428-a24b-4e09-8ff7-f8024a0ab3a1",
   "metadata": {},
   "outputs": [
    {
     "data": {
      "text/plain": [
       "Company    0\n",
       "Age        0\n",
       "Salary     0\n",
       "Place      0\n",
       "Country    0\n",
       "Gender     0\n",
       "dtype: int64"
      ]
     },
     "execution_count": 28,
     "metadata": {},
     "output_type": "execute_result"
    }
   ],
   "source": [
    "df.isnull().sum()"
   ]
  },
  {
   "cell_type": "code",
   "execution_count": 29,
   "id": "2d5523ec-68ba-442f-a861-4314690ebf23",
   "metadata": {},
   "outputs": [
    {
     "data": {
      "text/plain": [
       "(144, 6)"
      ]
     },
     "execution_count": 29,
     "metadata": {},
     "output_type": "execute_result"
    }
   ],
   "source": [
    "df.shape\n"
   ]
  },
  {
   "cell_type": "code",
   "execution_count": null,
   "id": "224fa9c9-950d-44f5-912e-ed5f22cc1bb2",
   "metadata": {},
   "outputs": [],
   "source": []
  }
 ],
 "metadata": {
  "kernelspec": {
   "display_name": "Python 3",
   "language": "python",
   "name": "python3"
  },
  "language_info": {
   "codemirror_mode": {
    "name": "ipython",
    "version": 3
   },
   "file_extension": ".py",
   "mimetype": "text/x-python",
   "name": "python",
   "nbconvert_exporter": "python",
   "pygments_lexer": "ipython3",
   "version": "3.12.4"
  }
 },
 "nbformat": 4,
 "nbformat_minor": 5
}
