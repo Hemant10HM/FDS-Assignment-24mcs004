{
  "nbformat": 4,
  "nbformat_minor": 0,
  "metadata": {
    "colab": {
      "provenance": [],
      "authorship_tag": "ABX9TyNtB0/uiaauAv8/dn6bVIs6",
      "include_colab_link": true
    },
    "kernelspec": {
      "name": "python3",
      "display_name": "Python 3"
    },
    "language_info": {
      "name": "python"
    }
  },
  "cells": [
    {
      "cell_type": "markdown",
      "metadata": {
        "id": "view-in-github",
        "colab_type": "text"
      },
      "source": [
        "<a href=\"https://colab.research.google.com/github/Hemant10HM/FDS-Assignment-24mcs004/blob/main/FDS_central_limit_theorem.ipynb\" target=\"_parent\"><img src=\"https://colab.research.google.com/assets/colab-badge.svg\" alt=\"Open In Colab\"/></a>"
      ]
    },
    {
      "cell_type": "code",
      "execution_count": null,
      "metadata": {
        "colab": {
          "base_uri": "https://localhost:8080/"
        },
        "id": "lTjkaLAV_Icw",
        "outputId": "b81ca9ee-22df-45e9-a0e3-32d29eaaa6ec"
      },
      "outputs": [
        {
          "output_type": "stream",
          "name": "stdout",
          "text": [
            "[10, 20, 30, 40, 50, 60, 70, 80, 90, 100, 110, 120, 130, 140, 150, 160, 170, 180, 190, 200, 210, 220, 230, 240, 250, 260, 270, 280, 290, 300]\n"
          ]
        }
      ],
      "source": [
        "import random\n",
        "population = list(range(10,301,10)) #generating the array\n",
        "print(population)"
      ]
    },
    {
      "cell_type": "code",
      "source": [
        "population_mean=sum(population)/len(population) #mean of array\n",
        "print(population_mean)\n",
        "population_std=0\n",
        "for i in population:\n",
        "    population_std+=(i-population_mean)**2\n",
        "population_std=(population_std/len(population))**0.5 #stabdard deviation of the array\n",
        "print(population_std)"
      ],
      "metadata": {
        "colab": {
          "base_uri": "https://localhost:8080/"
        },
        "id": "JAoQWyikBIYK",
        "outputId": "d9f9f815-38ac-4cfd-ad71-9bc669b37add"
      },
      "execution_count": null,
      "outputs": [
        {
          "output_type": "stream",
          "name": "stdout",
          "text": [
            "155.0\n",
            "86.5544144839919\n"
          ]
        }
      ]
    },
    {
      "cell_type": "code",
      "source": [
        "num_of_sample=40\n",
        "sample_size=6\n",
        "samples =[]\n",
        "for i in range(num_of_sample):\n",
        "    sample=random.sample(population,sample_size)\n",
        "    samples.append(sample)\n",
        "samples"
      ],
      "metadata": {
        "colab": {
          "base_uri": "https://localhost:8080/"
        },
        "id": "m93th0bPDMZY",
        "outputId": "d8fefac4-0cfe-4e3a-d77d-255b23125cef"
      },
      "execution_count": null,
      "outputs": [
        {
          "output_type": "execute_result",
          "data": {
            "text/plain": [
              "[[160, 180, 290, 130, 50, 210],\n",
              " [70, 10, 60, 130, 110, 230],\n",
              " [190, 300, 220, 80, 10, 90],\n",
              " [280, 240, 230, 160, 20, 220],\n",
              " [200, 140, 210, 20, 10, 90],\n",
              " [80, 60, 300, 250, 260, 110],\n",
              " [290, 90, 60, 280, 230, 100],\n",
              " [280, 100, 30, 160, 200, 240],\n",
              " [140, 100, 30, 190, 50, 40],\n",
              " [40, 180, 120, 190, 240, 220],\n",
              " [170, 190, 280, 130, 80, 160],\n",
              " [300, 50, 40, 110, 80, 250],\n",
              " [280, 70, 210, 100, 30, 200],\n",
              " [10, 220, 150, 300, 100, 80],\n",
              " [70, 60, 100, 150, 300, 120],\n",
              " [40, 290, 190, 110, 260, 210],\n",
              " [210, 280, 20, 240, 170, 250],\n",
              " [200, 140, 120, 10, 230, 20],\n",
              " [150, 100, 90, 260, 180, 30],\n",
              " [90, 230, 150, 270, 250, 20],\n",
              " [230, 80, 170, 210, 90, 100],\n",
              " [120, 130, 70, 20, 30, 60],\n",
              " [210, 260, 160, 90, 170, 100],\n",
              " [240, 280, 220, 210, 150, 90],\n",
              " [60, 260, 100, 230, 140, 190],\n",
              " [190, 10, 130, 20, 220, 30],\n",
              " [10, 50, 160, 140, 60, 120],\n",
              " [170, 220, 120, 210, 90, 180],\n",
              " [220, 170, 20, 140, 290, 200],\n",
              " [300, 270, 290, 30, 100, 220],\n",
              " [240, 60, 290, 270, 140, 100],\n",
              " [150, 140, 90, 220, 20, 10],\n",
              " [110, 160, 130, 20, 290, 170],\n",
              " [280, 50, 160, 120, 40, 20],\n",
              " [260, 210, 140, 200, 40, 50],\n",
              " [220, 60, 100, 130, 200, 300],\n",
              " [180, 130, 290, 90, 170, 30],\n",
              " [190, 140, 40, 220, 290, 230],\n",
              " [110, 230, 10, 300, 250, 20],\n",
              " [10, 50, 160, 100, 110, 150]]"
            ]
          },
          "metadata": {},
          "execution_count": 19
        }
      ]
    },
    {
      "cell_type": "code",
      "source": [
        "sample_means=[]\n",
        "for i in samples:\n",
        "    sample_means.append(sum(i)/len(i))\n",
        "print(sample_means)"
      ],
      "metadata": {
        "colab": {
          "base_uri": "https://localhost:8080/"
        },
        "id": "C6ziLQq7FrpU",
        "outputId": "e74a718d-f678-47b1-8c4f-edc35fa44d2c"
      },
      "execution_count": null,
      "outputs": [
        {
          "output_type": "stream",
          "name": "stdout",
          "text": [
            "[150.0, 183.33333333333334, 163.33333333333334, 146.66666666666666, 115.0, 145.0, 170.0, 170.0, 140.0, 106.66666666666667, 198.33333333333334, 118.33333333333333, 161.66666666666666, 113.33333333333333, 185.0, 208.33333333333334, 81.66666666666667, 141.66666666666666, 176.66666666666666, 156.66666666666666, 180.0, 131.66666666666666, 166.66666666666666, 193.33333333333334, 176.66666666666666, 140.0, 170.0, 141.66666666666666, 173.33333333333334, 120.0, 195.0, 105.0, 175.0, 230.0, 151.66666666666666, 186.66666666666666, 146.66666666666666, 181.66666666666666, 81.66666666666667, 145.0]\n"
          ]
        }
      ]
    },
    {
      "cell_type": "code",
      "source": [
        "mean_of_sample_means=sum(sample_means)/len(sample_means)\n",
        "print(mean_of_sample_means)\n",
        "std_dev_0f_sample_means=0\n",
        "for i in sample_means:\n",
        "    std_dev_0f_sample_means+=(i-mean_of_sample_means)**2\n",
        "std_dev_0f_sample_means=(std_dev_0f_sample_means/len(sample_means))**0.5\n",
        "print(std_dev_0f_sample_means)\n",
        "print(population_mean)\n",
        "print(population_std)"
      ],
      "metadata": {
        "colab": {
          "base_uri": "https://localhost:8080/"
        },
        "id": "AOCm3Mm1F8YB",
        "outputId": "00c162ca-66f3-4ba8-ce1b-8b5984d6367f"
      },
      "execution_count": null,
      "outputs": [
        {
          "output_type": "stream",
          "name": "stdout",
          "text": [
            "155.58333333333337\n",
            "32.889862504357716\n",
            "155.0\n",
            "86.5544144839919\n"
          ]
        }
      ]
    },
    {
      "cell_type": "code",
      "source": [
        "error=population_std/sample_size**0.5\n",
        "print(error)\n"
      ],
      "metadata": {
        "colab": {
          "base_uri": "https://localhost:8080/"
        },
        "id": "kt0twGeuG89l",
        "outputId": "ee1941d0-c3cb-41ed-91d2-d213a4a40584"
      },
      "execution_count": null,
      "outputs": [
        {
          "output_type": "stream",
          "name": "stdout",
          "text": [
            "35.335691745190324\n"
          ]
        }
      ]
    },
    {
      "cell_type": "code",
      "source": [
        "import matplotlib.pyplot as plt\n",
        "plt.hist(sample_means, bins=30)\n",
        "plt.title(\"Distribution of Sample Means\")\n",
        "plt.xlabel(\"Sample Mean\")\n",
        "plt.ylabel(\"Frequency\")\n",
        "plt.show()"
      ],
      "metadata": {
        "colab": {
          "base_uri": "https://localhost:8080/",
          "height": 472
        },
        "id": "fCFjatYGIgse",
        "outputId": "5992b91f-1118-4636-eaba-b97524581ab2"
      },
      "execution_count": null,
      "outputs": [
        {
          "output_type": "display_data",
          "data": {
            "text/plain": [
              "<Figure size 640x480 with 1 Axes>"
            ],
            "image/png": "[encoded data removed]"
          },
          "metadata": {}
        }
      ]
    },
    {
      "cell_type": "code",
      "source": [],
      "metadata": {
        "id": "nSc3XxeLKr60"
      },
      "execution_count": null,
      "outputs": []
    }
  ]
}