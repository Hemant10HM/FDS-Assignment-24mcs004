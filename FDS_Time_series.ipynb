{
  "nbformat": 4,
  "nbformat_minor": 0,
  "metadata": {
    "colab": {
      "provenance": [],
      "authorship_tag": "ABX9TyN8bzoC0JkQD0eGx+oAUh5x",
      "include_colab_link": true
    },
    "kernelspec": {
      "name": "python3",
      "display_name": "Python 3"
    },
    "language_info": {
      "name": "python"
    }
  },
  "cells": [
    {
      "cell_type": "markdown",
      "metadata": {
        "id": "view-in-github",
        "colab_type": "text"
      },
      "source": [
        "<a href=\"https://colab.research.google.com/github/Hemant10HM/FDS-Assignment-24mcs004/blob/main/FDS_Time_series.ipynb\" target=\"_parent\"><img src=\"https://colab.research.google.com/assets/colab-badge.svg\" alt=\"Open In Colab\"/></a>"
      ]
    },
    {
      "cell_type": "code",
      "execution_count": null,
      "metadata": {
        "id": "AjME5le5FUt_"
      },
      "outputs": [],
      "source": [
        "#timeseries data\n",
        "arr = [8,13,19,10,5,23,11,6,25,30]"
      ]
    },
    {
      "cell_type": "code",
      "source": [
        "diff =[]\n",
        "for i in range(len(arr)-1):\n",
        "    diff.append(arr[i+1]-arr[i])\n",
        "diff"
      ],
      "metadata": {
        "colab": {
          "base_uri": "https://localhost:8080/"
        },
        "id": "M4yC3aqhJAnr",
        "outputId": "7e48aaba-62f6-4876-b0fe-14a28c4cd87b"
      },
      "execution_count": null,
      "outputs": [
        {
          "output_type": "execute_result",
          "data": {
            "text/plain": [
              "[5, 6, -9, -5, 18, -12, -5, 19, 5]"
            ]
          },
          "metadata": {},
          "execution_count": 4
        }
      ]
    },
    {
      "cell_type": "code",
      "source": [
        "l1 =diff[0:8]\n",
        "l2 = diff[1:]\n",
        "l2"
      ],
      "metadata": {
        "colab": {
          "base_uri": "https://localhost:8080/"
        },
        "id": "HADa6w9LJc2b",
        "outputId": "05d08f36-51c9-43cd-f050-d16d7930ecb2"
      },
      "execution_count": null,
      "outputs": [
        {
          "output_type": "execute_result",
          "data": {
            "text/plain": [
              "[6, -9, -5, 18, -12, -5, 19, 5]"
            ]
          },
          "metadata": {},
          "execution_count": 10
        }
      ]
    },
    {
      "cell_type": "code",
      "source": [
        "l1"
      ],
      "metadata": {
        "colab": {
          "base_uri": "https://localhost:8080/"
        },
        "id": "NFHCBtW_KFQc",
        "outputId": "a5685438-ccc9-47d2-e09d-15c373185fed"
      },
      "execution_count": null,
      "outputs": [
        {
          "output_type": "execute_result",
          "data": {
            "text/plain": [
              "[5, 6, -9, -5, 18, -12, -5, 19]"
            ]
          },
          "metadata": {},
          "execution_count": 11
        }
      ]
    },
    {
      "cell_type": "code",
      "source": [
        "import numpy as np\n",
        "cov_matrix = np.cov(l1,l2)\n",
        "cov_value = cov_matrix[0,1]\n",
        "cov_value"
      ],
      "metadata": {
        "colab": {
          "base_uri": "https://localhost:8080/"
        },
        "id": "v_f59KJMKKOc",
        "outputId": "c5904efd-4737-48e5-8516-d0ba5d82f7f9"
      },
      "execution_count": null,
      "outputs": [
        {
          "output_type": "execute_result",
          "data": {
            "text/plain": [
              "-37.30357142857142"
            ]
          },
          "metadata": {},
          "execution_count": 14
        }
      ]
    },
    {
      "cell_type": "code",
      "source": [
        "variance  = np.var(l1)\n",
        "variance"
      ],
      "metadata": {
        "colab": {
          "base_uri": "https://localhost:8080/"
        },
        "id": "EfSKg4P1K9Y_",
        "outputId": "0599659e-4308-4bfe-8d4a-4c0606ef2cc0"
      },
      "execution_count": null,
      "outputs": [
        {
          "output_type": "execute_result",
          "data": {
            "text/plain": [
              "123.109375"
            ]
          },
          "metadata": {},
          "execution_count": 15
        }
      ]
    },
    {
      "cell_type": "code",
      "source": [
        "phi = cov_value/(variance)\n",
        "phi"
      ],
      "metadata": {
        "colab": {
          "base_uri": "https://localhost:8080/"
        },
        "id": "tFz7yHflNB9w",
        "outputId": "52c01246-6b93-4d71-ea81-f23f75011e91"
      },
      "execution_count": null,
      "outputs": [
        {
          "output_type": "execute_result",
          "data": {
            "text/plain": [
              "-0.30301162221456673"
            ]
          },
          "metadata": {},
          "execution_count": 17
        }
      ]
    },
    {
      "cell_type": "code",
      "source": [
        "arr.append(arr[len(arr)-1]+phi)\n",
        "arr"
      ],
      "metadata": {
        "colab": {
          "base_uri": "https://localhost:8080/"
        },
        "id": "0mG9b0slNGfw",
        "outputId": "7fc1c7e3-fa3c-42a0-f844-2d5e09c6689a"
      },
      "execution_count": null,
      "outputs": [
        {
          "output_type": "execute_result",
          "data": {
            "text/plain": [
              "[8, 13, 19, 10, 5, 23, 11, 6, 25, 30, 29.696988377785434]"
            ]
          },
          "metadata": {},
          "execution_count": 18
        }
      ]
    },
    {
      "cell_type": "code",
      "source": [],
      "metadata": {
        "id": "zjwt6PdwNtLR"
      },
      "execution_count": null,
      "outputs": []
    }
  ]
}